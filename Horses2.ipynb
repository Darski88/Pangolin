{
 "cells": [
  {
   "cell_type": "markdown",
   "id": "afb0c692",
   "metadata": {},
   "source": [
    "I really enjoy baking and cooking. I have been baking since I was around ten years old. My favorite thing to bake used to be chocolate cupcakes but now I enjoy making chocolate chip cookies. As I have grown older I now enjoy cooking. When I cook I like to make complicated dishes or dishes that come from different cultures then my own. One of my favorite dishes that I enjoy making is a mushroom pizza. For the mushroom pizza, I will use a giant portabello mushroom and clean it. After its all clean I will start to assemble it with the usual suspects of pizza sauce and cheese. After I take it out the oven wait ten minutes and then enjoy!"
   ]
  },
  {
   "cell_type": "code",
   "execution_count": 1,
   "id": "fcc9dcbe",
   "metadata": {},
   "outputs": [
    {
     "data": {
      "text/html": [
       "\n",
       "<video width=\"320\" height=\"240\" controls>\n",
       "  <source src=\"https://github.com/Darski88/cooking-baking/raw/main/Horses_2.mp4\" type=\"video/mp4\">\n",
       "</video>\n"
      ],
      "text/plain": [
       "<IPython.core.display.HTML object>"
      ]
     },
     "execution_count": 1,
     "metadata": {},
     "output_type": "execute_result"
    }
   ],
   "source": [
    "from IPython.display import HTML\n",
    "HTML(\"\"\"\n",
    "<video width=\"320\" height=\"240\" controls>\n",
    "  <source src=\"https://github.com/Darski88/cooking-baking/raw/main/Horses_2.mp4\" type=\"video/mp4\">\n",
    "</video>\n",
    "\"\"\")\n"
   ]
  },
  {
   "cell_type": "code",
   "execution_count": null,
   "id": "5ed0c7c4",
   "metadata": {},
   "outputs": [],
   "source": []
  }
 ],
 "metadata": {
  "kernelspec": {
   "display_name": "Python 3 (ipykernel)",
   "language": "python",
   "name": "python3"
  },
  "language_info": {
   "codemirror_mode": {
    "name": "ipython",
    "version": 3
   },
   "file_extension": ".py",
   "mimetype": "text/x-python",
   "name": "python",
   "nbconvert_exporter": "python",
   "pygments_lexer": "ipython3",
   "version": "3.10.9"
  }
 },
 "nbformat": 4,
 "nbformat_minor": 5
}
